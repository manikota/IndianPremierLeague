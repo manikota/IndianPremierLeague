{
 "cells": [
  {
   "cell_type": "code",
   "execution_count": 1,
   "metadata": {
    "collapsed": true
   },
   "outputs": [],
   "source": [
    "import pandas as pd\n",
    "import numpy as np\n",
    "import seaborn as sns\n",
    "import matplotlib.pyplot as plt\n",
    "%matplotlib inline"
   ]
  },
  {
   "cell_type": "code",
   "execution_count": 2,
   "metadata": {
    "collapsed": true
   },
   "outputs": [],
   "source": [
    "matches=pd.read_csv('matches.csv')\n",
    "deliveries=pd.read_csv('deliveries.csv')\n",
    "matches.drop('Unnamed: 0',axis=1,inplace=True)\n",
    "deliveries.drop(['Unnamed: 0','Unnamed: 0.1'],axis=1,inplace=True)"
   ]
  },
  {
   "cell_type": "code",
   "execution_count": 3,
   "metadata": {
    "collapsed": true
   },
   "outputs": [],
   "source": [
    "# def changeName(cols):\n",
    "#     if cols=='Rising Pune Supergiant':\n",
    "#         return 'Rising Pune Supergiants'\n",
    "    \n",
    "#     else:\n",
    "        \n",
    "#         return cols\n",
    "\n",
    "# deliveries['batting_team']=deliveries['batting_team'].apply(changeName)\n",
    "# deliveries['bowling_team']=deliveries['bowling_team'].apply(changeName)"
   ]
  },
  {
   "cell_type": "code",
   "execution_count": 4,
   "metadata": {},
   "outputs": [
    {
     "name": "stdout",
     "output_type": "stream",
     "text": [
      "<class 'pandas.core.frame.DataFrame'>\n",
      "RangeIndex: 636 entries, 0 to 635\n",
      "Data columns (total 18 columns):\n",
      "id                 636 non-null int64\n",
      "season             636 non-null int64\n",
      "city               629 non-null object\n",
      "date               636 non-null object\n",
      "team1              636 non-null object\n",
      "team2              636 non-null object\n",
      "toss_winner        636 non-null object\n",
      "toss_decision      636 non-null object\n",
      "result             636 non-null object\n",
      "dl_applied         636 non-null int64\n",
      "winner             633 non-null object\n",
      "win_by_runs        636 non-null int64\n",
      "win_by_wickets     636 non-null int64\n",
      "player_of_match    633 non-null object\n",
      "venue              636 non-null object\n",
      "umpire1            635 non-null object\n",
      "umpire2            635 non-null object\n",
      "umpire3            0 non-null float64\n",
      "dtypes: float64(1), int64(5), object(12)\n",
      "memory usage: 89.5+ KB\n"
     ]
    }
   ],
   "source": [
    "matches.info()"
   ]
  },
  {
   "cell_type": "code",
   "execution_count": 5,
   "metadata": {},
   "outputs": [
    {
     "name": "stdout",
     "output_type": "stream",
     "text": [
      "<class 'pandas.core.frame.DataFrame'>\n",
      "RangeIndex: 150460 entries, 0 to 150459\n",
      "Data columns (total 21 columns):\n",
      "match_id            150460 non-null int64\n",
      "inning              150460 non-null int64\n",
      "batting_team        150460 non-null object\n",
      "bowling_team        150460 non-null object\n",
      "over                150460 non-null int64\n",
      "ball                150460 non-null int64\n",
      "batsman             150460 non-null object\n",
      "non_striker         150460 non-null object\n",
      "bowler              150460 non-null object\n",
      "is_super_over       150460 non-null int64\n",
      "wide_runs           150460 non-null int64\n",
      "bye_runs            150460 non-null int64\n",
      "legbye_runs         150460 non-null int64\n",
      "noball_runs         150460 non-null int64\n",
      "penalty_runs        150460 non-null int64\n",
      "batsman_runs        150460 non-null int64\n",
      "extra_runs          150460 non-null int64\n",
      "total_runs          150460 non-null int64\n",
      "player_dismissed    7438 non-null object\n",
      "dismissal_kind      7438 non-null object\n",
      "fielder             5369 non-null object\n",
      "dtypes: int64(13), object(8)\n",
      "memory usage: 24.1+ MB\n"
     ]
    }
   ],
   "source": [
    "deliveries.info()"
   ]
  },
  {
   "cell_type": "code",
   "execution_count": 6,
   "metadata": {
    "collapsed": true
   },
   "outputs": [],
   "source": [
    "matches=matches[matches['dl_applied']!=1]\n",
    "matches=matches[matches['result']!='no result']"
   ]
  },
  {
   "cell_type": "code",
   "execution_count": 7,
   "metadata": {
    "collapsed": true
   },
   "outputs": [],
   "source": [
    "templist=list(matches['id'])\n",
    "deliveries=deliveries[deliveries['match_id'].isin(templist)]"
   ]
  },
  {
   "cell_type": "code",
   "execution_count": 8,
   "metadata": {},
   "outputs": [
    {
     "name": "stdout",
     "output_type": "stream",
     "text": [
      "<class 'pandas.core.frame.DataFrame'>\n",
      "Int64Index: 147458 entries, 0 to 150459\n",
      "Data columns (total 21 columns):\n",
      "match_id            147458 non-null int64\n",
      "inning              147458 non-null int64\n",
      "batting_team        147458 non-null object\n",
      "bowling_team        147458 non-null object\n",
      "over                147458 non-null int64\n",
      "ball                147458 non-null int64\n",
      "batsman             147458 non-null object\n",
      "non_striker         147458 non-null object\n",
      "bowler              147458 non-null object\n",
      "is_super_over       147458 non-null int64\n",
      "wide_runs           147458 non-null int64\n",
      "bye_runs            147458 non-null int64\n",
      "legbye_runs         147458 non-null int64\n",
      "noball_runs         147458 non-null int64\n",
      "penalty_runs        147458 non-null int64\n",
      "batsman_runs        147458 non-null int64\n",
      "extra_runs          147458 non-null int64\n",
      "total_runs          147458 non-null int64\n",
      "player_dismissed    7296 non-null object\n",
      "dismissal_kind      7296 non-null object\n",
      "fielder             5255 non-null object\n",
      "dtypes: int64(13), object(8)\n",
      "memory usage: 24.8+ MB\n"
     ]
    }
   ],
   "source": [
    "deliveries.info()"
   ]
  },
  {
   "cell_type": "code",
   "execution_count": 9,
   "metadata": {
    "collapsed": true
   },
   "outputs": [],
   "source": [
    "score_per_innings=deliveries.groupby(['inning','match_id'])['total_runs'].sum()\n",
    "score_per_innings=pd.DataFrame(score_per_innings)"
   ]
  },
  {
   "cell_type": "code",
   "execution_count": 10,
   "metadata": {},
   "outputs": [
    {
     "name": "stdout",
     "output_type": "stream",
     "text": [
      "<class 'pandas.core.frame.DataFrame'>\n",
      "Int64Index: 617 entries, 0 to 635\n",
      "Data columns (total 18 columns):\n",
      "id                 617 non-null int64\n",
      "season             617 non-null int64\n",
      "city               610 non-null object\n",
      "date               617 non-null object\n",
      "team1              617 non-null object\n",
      "team2              617 non-null object\n",
      "toss_winner        617 non-null object\n",
      "toss_decision      617 non-null object\n",
      "result             617 non-null object\n",
      "dl_applied         617 non-null int64\n",
      "winner             617 non-null object\n",
      "win_by_runs        617 non-null int64\n",
      "win_by_wickets     617 non-null int64\n",
      "player_of_match    617 non-null object\n",
      "venue              617 non-null object\n",
      "umpire1            616 non-null object\n",
      "umpire2            616 non-null object\n",
      "umpire3            0 non-null float64\n",
      "dtypes: float64(1), int64(5), object(12)\n",
      "memory usage: 91.6+ KB\n"
     ]
    }
   ],
   "source": [
    "matches.info()"
   ]
  },
  {
   "cell_type": "code",
   "execution_count": 11,
   "metadata": {},
   "outputs": [
    {
     "data": {
      "text/plain": [
       "(617, 1)"
      ]
     },
     "execution_count": 11,
     "metadata": {},
     "output_type": "execute_result"
    }
   ],
   "source": [
    "score_per_innings[:617].shape"
   ]
  },
  {
   "cell_type": "code",
   "execution_count": 12,
   "metadata": {},
   "outputs": [
    {
     "data": {
      "text/plain": [
       "(616, 1)"
      ]
     },
     "execution_count": 12,
     "metadata": {},
     "output_type": "execute_result"
    }
   ],
   "source": [
    "score_per_innings[618:618+616].shape"
   ]
  },
  {
   "cell_type": "code",
   "execution_count": 13,
   "metadata": {
    "collapsed": true
   },
   "outputs": [],
   "source": [
    "score_per_innings.reset_index(level=0, inplace=True)\n",
    "score_per_innings.drop('inning',axis=1,inplace=True)\n",
    "score_per_innings.reset_index(level=0, inplace=True)\n",
    "score_per_innings.columns=['id','first_innings_runs']"
   ]
  },
  {
   "cell_type": "code",
   "execution_count": 14,
   "metadata": {
    "collapsed": true
   },
   "outputs": [],
   "source": [
    "second_innings_score=score_per_innings[618:618+616]\n",
    "first_innings_score=score_per_innings[0:617]"
   ]
  },
  {
   "cell_type": "code",
   "execution_count": 15,
   "metadata": {
    "collapsed": true
   },
   "outputs": [],
   "source": [
    "matches=pd.merge(matches,pd.DataFrame(first_innings_score),on='id')"
   ]
  },
  {
   "cell_type": "code",
   "execution_count": 16,
   "metadata": {
    "collapsed": true
   },
   "outputs": [],
   "source": [
    "# second_innings_score.columns=['id','second_innings_runs']\n",
    "# second_innings_score.head()\n",
    "#matches=pd.merge(matches,pd.DataFrame(second_innings_score),on='id')"
   ]
  },
  {
   "cell_type": "code",
   "execution_count": 17,
   "metadata": {},
   "outputs": [
    {
     "name": "stdout",
     "output_type": "stream",
     "text": [
      "<class 'pandas.core.frame.DataFrame'>\n",
      "Int64Index: 617 entries, 0 to 616\n",
      "Data columns (total 19 columns):\n",
      "id                    617 non-null int64\n",
      "season                617 non-null int64\n",
      "city                  610 non-null object\n",
      "date                  617 non-null object\n",
      "team1                 617 non-null object\n",
      "team2                 617 non-null object\n",
      "toss_winner           617 non-null object\n",
      "toss_decision         617 non-null object\n",
      "result                617 non-null object\n",
      "dl_applied            617 non-null int64\n",
      "winner                617 non-null object\n",
      "win_by_runs           617 non-null int64\n",
      "win_by_wickets        617 non-null int64\n",
      "player_of_match       617 non-null object\n",
      "venue                 617 non-null object\n",
      "umpire1               616 non-null object\n",
      "umpire2               616 non-null object\n",
      "umpire3               0 non-null float64\n",
      "first_innings_runs    617 non-null int64\n",
      "dtypes: float64(1), int64(6), object(12)\n",
      "memory usage: 96.4+ KB\n"
     ]
    }
   ],
   "source": [
    "matches.info()"
   ]
  },
  {
   "cell_type": "code",
   "execution_count": 18,
   "metadata": {
    "collapsed": true
   },
   "outputs": [],
   "source": [
    "matches.sort_values(['season','id'],inplace=True)"
   ]
  },
  {
   "cell_type": "code",
   "execution_count": 19,
   "metadata": {
    "collapsed": true
   },
   "outputs": [],
   "source": [
    "# def time_expanding(data,cols,x,y):\n",
    "#     data_expanding=data.groupby(cols).expanding()\n",
    "#     data_score=pd.DataFrame(data_expanding['first_innings_runs'].mean()).apply(round)\n",
    "#     data_score.reset_index(level=0, inplace=True)\n",
    "#     data_score.reset_index(level=0, inplace=True)\n",
    "#     data_score['id']=data_score[['index']].apply(lambda x : x+1)\n",
    "#     data_score.drop(['index',x],axis=1,inplace=True)\n",
    "#     data_score.columns=[y,'id']\n",
    "#     return pd.merge(data,data_score,on='id')"
   ]
  },
  {
   "cell_type": "code",
   "execution_count": 20,
   "metadata": {
    "collapsed": true
   },
   "outputs": [],
   "source": [
    "shifted=matches.groupby('venue')['first_innings_runs'].shift(1)\n",
    "shifted=shifted.rename('shifted_score')\n",
    "matches=pd.concat([matches,shifted],axis=1)"
   ]
  },
  {
   "cell_type": "code",
   "execution_count": 21,
   "metadata": {
    "collapsed": true
   },
   "outputs": [],
   "source": [
    "matches['average_venue_score']=(matches.groupby('venue')['shifted_score'].cumsum()/matches.groupby('venue').cumcount()).round()"
   ]
  },
  {
   "cell_type": "code",
   "execution_count": 22,
   "metadata": {
    "collapsed": true
   },
   "outputs": [],
   "source": [
    "shifted=matches.groupby('team1')['first_innings_runs'].shift(1)\n",
    "shifted=shifted.rename('shifted_batting_score')\n",
    "matches=pd.concat([matches,shifted],axis=1)"
   ]
  },
  {
   "cell_type": "code",
   "execution_count": 23,
   "metadata": {
    "collapsed": true
   },
   "outputs": [],
   "source": [
    "matches['average_first_batting_score']=(matches.groupby('team1')['shifted_batting_score'].cumsum()/matches.groupby('team1').cumcount()).round()"
   ]
  },
  {
   "cell_type": "code",
   "execution_count": 24,
   "metadata": {
    "collapsed": true
   },
   "outputs": [],
   "source": [
    "shifted=matches.groupby('team2')['first_innings_runs'].shift(1)\n",
    "shifted=shifted.rename('shifted_bowling_score')\n",
    "matches=pd.concat([matches,shifted],axis=1)"
   ]
  },
  {
   "cell_type": "code",
   "execution_count": 25,
   "metadata": {
    "collapsed": true
   },
   "outputs": [],
   "source": [
    "matches['average_first_bowling_score']=(matches.groupby('team2')['shifted_bowling_score'].cumsum()/matches.groupby('team2').cumcount()).round()"
   ]
  },
  {
   "cell_type": "code",
   "execution_count": 26,
   "metadata": {},
   "outputs": [
    {
     "data": {
      "text/html": [
       "<div>\n",
       "<style>\n",
       "    .dataframe thead tr:only-child th {\n",
       "        text-align: right;\n",
       "    }\n",
       "\n",
       "    .dataframe thead th {\n",
       "        text-align: left;\n",
       "    }\n",
       "\n",
       "    .dataframe tbody tr th {\n",
       "        vertical-align: top;\n",
       "    }\n",
       "</style>\n",
       "<table border=\"1\" class=\"dataframe\">\n",
       "  <thead>\n",
       "    <tr style=\"text-align: right;\">\n",
       "      <th></th>\n",
       "      <th>id</th>\n",
       "      <th>season</th>\n",
       "      <th>city</th>\n",
       "      <th>date</th>\n",
       "      <th>team1</th>\n",
       "      <th>team2</th>\n",
       "      <th>toss_winner</th>\n",
       "      <th>toss_decision</th>\n",
       "      <th>result</th>\n",
       "      <th>dl_applied</th>\n",
       "      <th>...</th>\n",
       "      <th>umpire1</th>\n",
       "      <th>umpire2</th>\n",
       "      <th>umpire3</th>\n",
       "      <th>first_innings_runs</th>\n",
       "      <th>shifted_score</th>\n",
       "      <th>average_venue_score</th>\n",
       "      <th>shifted_batting_score</th>\n",
       "      <th>average_first_batting_score</th>\n",
       "      <th>shifted_bowling_score</th>\n",
       "      <th>average_first_bowling_score</th>\n",
       "    </tr>\n",
       "  </thead>\n",
       "  <tbody>\n",
       "    <tr>\n",
       "      <th>53</th>\n",
       "      <td>54</td>\n",
       "      <td>2017</td>\n",
       "      <td>Pune</td>\n",
       "      <td>2017-05-14</td>\n",
       "      <td>Kings XI Punjab</td>\n",
       "      <td>Rising Pune Supergiants</td>\n",
       "      <td>Rising Pune Supergiants</td>\n",
       "      <td>field</td>\n",
       "      <td>normal</td>\n",
       "      <td>0</td>\n",
       "      <td>...</td>\n",
       "      <td>AY Dandekar</td>\n",
       "      <td>A Deshmukh</td>\n",
       "      <td>NaN</td>\n",
       "      <td>73</td>\n",
       "      <td>161.0</td>\n",
       "      <td>173.0</td>\n",
       "      <td>230.0</td>\n",
       "      <td>162.0</td>\n",
       "      <td>168.0</td>\n",
       "      <td>166.0</td>\n",
       "    </tr>\n",
       "    <tr>\n",
       "      <th>54</th>\n",
       "      <td>55</td>\n",
       "      <td>2017</td>\n",
       "      <td>Delhi</td>\n",
       "      <td>2017-05-14</td>\n",
       "      <td>Royal Challengers Bangalore</td>\n",
       "      <td>Delhi Daredevils</td>\n",
       "      <td>Royal Challengers Bangalore</td>\n",
       "      <td>bat</td>\n",
       "      <td>normal</td>\n",
       "      <td>0</td>\n",
       "      <td>...</td>\n",
       "      <td>CK Nandan</td>\n",
       "      <td>C Shamshuddin</td>\n",
       "      <td>NaN</td>\n",
       "      <td>161</td>\n",
       "      <td>168.0</td>\n",
       "      <td>165.0</td>\n",
       "      <td>158.0</td>\n",
       "      <td>166.0</td>\n",
       "      <td>195.0</td>\n",
       "      <td>163.0</td>\n",
       "    </tr>\n",
       "    <tr>\n",
       "      <th>55</th>\n",
       "      <td>56</td>\n",
       "      <td>2017</td>\n",
       "      <td>Mumbai</td>\n",
       "      <td>2017-05-16</td>\n",
       "      <td>Rising Pune Supergiants</td>\n",
       "      <td>Mumbai Indians</td>\n",
       "      <td>Mumbai Indians</td>\n",
       "      <td>field</td>\n",
       "      <td>normal</td>\n",
       "      <td>0</td>\n",
       "      <td>...</td>\n",
       "      <td>S Ravi</td>\n",
       "      <td>C Shamshuddin</td>\n",
       "      <td>NaN</td>\n",
       "      <td>162</td>\n",
       "      <td>230.0</td>\n",
       "      <td>164.0</td>\n",
       "      <td>148.0</td>\n",
       "      <td>166.0</td>\n",
       "      <td>230.0</td>\n",
       "      <td>159.0</td>\n",
       "    </tr>\n",
       "    <tr>\n",
       "      <th>56</th>\n",
       "      <td>58</td>\n",
       "      <td>2017</td>\n",
       "      <td>Bangalore</td>\n",
       "      <td>2017-05-19</td>\n",
       "      <td>Kolkata Knight Riders</td>\n",
       "      <td>Mumbai Indians</td>\n",
       "      <td>Mumbai Indians</td>\n",
       "      <td>field</td>\n",
       "      <td>normal</td>\n",
       "      <td>0</td>\n",
       "      <td>...</td>\n",
       "      <td>NJ Llong</td>\n",
       "      <td>Nitin Menon</td>\n",
       "      <td>NaN</td>\n",
       "      <td>107</td>\n",
       "      <td>158.0</td>\n",
       "      <td>169.0</td>\n",
       "      <td>155.0</td>\n",
       "      <td>157.0</td>\n",
       "      <td>162.0</td>\n",
       "      <td>159.0</td>\n",
       "    </tr>\n",
       "    <tr>\n",
       "      <th>57</th>\n",
       "      <td>59</td>\n",
       "      <td>2017</td>\n",
       "      <td>Hyderabad</td>\n",
       "      <td>2017-05-21</td>\n",
       "      <td>Mumbai Indians</td>\n",
       "      <td>Rising Pune Supergiants</td>\n",
       "      <td>Mumbai Indians</td>\n",
       "      <td>bat</td>\n",
       "      <td>normal</td>\n",
       "      <td>0</td>\n",
       "      <td>...</td>\n",
       "      <td>NJ Llong</td>\n",
       "      <td>S Ravi</td>\n",
       "      <td>NaN</td>\n",
       "      <td>129</td>\n",
       "      <td>138.0</td>\n",
       "      <td>158.0</td>\n",
       "      <td>173.0</td>\n",
       "      <td>164.0</td>\n",
       "      <td>73.0</td>\n",
       "      <td>158.0</td>\n",
       "    </tr>\n",
       "  </tbody>\n",
       "</table>\n",
       "<p>5 rows × 25 columns</p>\n",
       "</div>"
      ],
      "text/plain": [
       "    id  season       city        date                        team1  \\\n",
       "53  54    2017       Pune  2017-05-14              Kings XI Punjab   \n",
       "54  55    2017      Delhi  2017-05-14  Royal Challengers Bangalore   \n",
       "55  56    2017     Mumbai  2017-05-16      Rising Pune Supergiants   \n",
       "56  58    2017  Bangalore  2017-05-19        Kolkata Knight Riders   \n",
       "57  59    2017  Hyderabad  2017-05-21               Mumbai Indians   \n",
       "\n",
       "                      team2                  toss_winner toss_decision  \\\n",
       "53  Rising Pune Supergiants      Rising Pune Supergiants         field   \n",
       "54         Delhi Daredevils  Royal Challengers Bangalore           bat   \n",
       "55           Mumbai Indians               Mumbai Indians         field   \n",
       "56           Mumbai Indians               Mumbai Indians         field   \n",
       "57  Rising Pune Supergiants               Mumbai Indians           bat   \n",
       "\n",
       "    result  dl_applied             ...                   umpire1  \\\n",
       "53  normal           0             ...               AY Dandekar   \n",
       "54  normal           0             ...                 CK Nandan   \n",
       "55  normal           0             ...                    S Ravi   \n",
       "56  normal           0             ...                  NJ Llong   \n",
       "57  normal           0             ...                  NJ Llong   \n",
       "\n",
       "          umpire2  umpire3 first_innings_runs shifted_score  \\\n",
       "53     A Deshmukh      NaN                 73         161.0   \n",
       "54  C Shamshuddin      NaN                161         168.0   \n",
       "55  C Shamshuddin      NaN                162         230.0   \n",
       "56    Nitin Menon      NaN                107         158.0   \n",
       "57         S Ravi      NaN                129         138.0   \n",
       "\n",
       "   average_venue_score shifted_batting_score  average_first_batting_score  \\\n",
       "53               173.0                 230.0                        162.0   \n",
       "54               165.0                 158.0                        166.0   \n",
       "55               164.0                 148.0                        166.0   \n",
       "56               169.0                 155.0                        157.0   \n",
       "57               158.0                 173.0                        164.0   \n",
       "\n",
       "    shifted_bowling_score  average_first_bowling_score  \n",
       "53                  168.0                        166.0  \n",
       "54                  195.0                        163.0  \n",
       "55                  230.0                        159.0  \n",
       "56                  162.0                        159.0  \n",
       "57                   73.0                        158.0  \n",
       "\n",
       "[5 rows x 25 columns]"
      ]
     },
     "execution_count": 26,
     "metadata": {},
     "output_type": "execute_result"
    }
   ],
   "source": [
    "matches.tail()"
   ]
  },
  {
   "cell_type": "code",
   "execution_count": 27,
   "metadata": {},
   "outputs": [
    {
     "data": {
      "text/plain": [
       "team2\n",
       "Chennai Super Kings            160.490566\n",
       "Deccan Chargers                162.718750\n",
       "Delhi Daredevils               162.783133\n",
       "Gujarat Lions                  173.750000\n",
       "Kings XI Punjab                166.647059\n",
       "Kochi Tuskers Kerala           142.833333\n",
       "Kolkata Knight Riders          155.146667\n",
       "Mumbai Indians                 158.640000\n",
       "Pune Warriors                  157.280000\n",
       "Rajasthan Royals               157.111111\n",
       "Rising Pune Supergiants        156.000000\n",
       "Royal Challengers Bangalore    161.911392\n",
       "Sunrisers Hyderabad            156.724138\n",
       "Name: first_innings_runs, dtype: float64"
      ]
     },
     "execution_count": 27,
     "metadata": {},
     "output_type": "execute_result"
    }
   ],
   "source": [
    "matches.groupby('team2').mean()['first_innings_runs']"
   ]
  },
  {
   "cell_type": "code",
   "execution_count": 28,
   "metadata": {},
   "outputs": [],
   "source": [
    "team1l=[]\n",
    "team2l=[]\n",
    "for i in range (0,len(matches)):\n",
    "    tc=[0,0]\n",
    "    wc=[0,0]\n",
    "    x=5\n",
    "    present=matches.loc[i]\n",
    "    for j in range(i-1,-2,-1):\n",
    "        if (tc[0]==x and tc[1]==x) or j==-1:\n",
    "            team1l.append(round(wc[0]/x))\n",
    "            team2l.append(round(wc[1]/x))\n",
    "            break\n",
    "        \n",
    "        else:\n",
    "            previous=matches.loc[j]\n",
    "            if (previous['team1']==present['team1'] or previous['team2']== present['team1'] ) and tc[0]<x:\n",
    "                tc[0]+=1\n",
    "                wc[0]+=previous['first_innings_runs']\n",
    "            if previous['team1']==present['team2'] or previous['team2']== present['team2'] and tc[1]<=x:\n",
    "                tc[1]+=1\n",
    "                wc[1]+=previous['first_innings_runs']\n",
    "    \n",
    "\n",
    "\n",
    "d=pd.Series(data=team1l,name='team1_form')\n",
    "matches=pd.concat([matches,d],axis=1)\n",
    "d=pd.Series(data=team2l,name='team2_form')\n",
    "matches=pd.concat([matches,d],axis=1)"
   ]
  },
  {
   "cell_type": "code",
   "execution_count": 29,
   "metadata": {},
   "outputs": [
    {
     "data": {
      "text/html": [
       "<div>\n",
       "<style>\n",
       "    .dataframe thead tr:only-child th {\n",
       "        text-align: right;\n",
       "    }\n",
       "\n",
       "    .dataframe thead th {\n",
       "        text-align: left;\n",
       "    }\n",
       "\n",
       "    .dataframe tbody tr th {\n",
       "        vertical-align: top;\n",
       "    }\n",
       "</style>\n",
       "<table border=\"1\" class=\"dataframe\">\n",
       "  <thead>\n",
       "    <tr style=\"text-align: right;\">\n",
       "      <th></th>\n",
       "      <th>id</th>\n",
       "      <th>season</th>\n",
       "      <th>city</th>\n",
       "      <th>date</th>\n",
       "      <th>team1</th>\n",
       "      <th>team2</th>\n",
       "      <th>toss_winner</th>\n",
       "      <th>toss_decision</th>\n",
       "      <th>result</th>\n",
       "      <th>dl_applied</th>\n",
       "      <th>...</th>\n",
       "      <th>umpire3</th>\n",
       "      <th>first_innings_runs</th>\n",
       "      <th>shifted_score</th>\n",
       "      <th>average_venue_score</th>\n",
       "      <th>shifted_batting_score</th>\n",
       "      <th>average_first_batting_score</th>\n",
       "      <th>shifted_bowling_score</th>\n",
       "      <th>average_first_bowling_score</th>\n",
       "      <th>team1_form</th>\n",
       "      <th>team2_form</th>\n",
       "    </tr>\n",
       "  </thead>\n",
       "  <tbody>\n",
       "    <tr>\n",
       "      <th>612</th>\n",
       "      <td>632</td>\n",
       "      <td>2016</td>\n",
       "      <td>Raipur</td>\n",
       "      <td>2016-05-22</td>\n",
       "      <td>Delhi Daredevils</td>\n",
       "      <td>Royal Challengers Bangalore</td>\n",
       "      <td>Royal Challengers Bangalore</td>\n",
       "      <td>field</td>\n",
       "      <td>normal</td>\n",
       "      <td>0</td>\n",
       "      <td>...</td>\n",
       "      <td>NaN</td>\n",
       "      <td>138</td>\n",
       "      <td>158.0</td>\n",
       "      <td>148.0</td>\n",
       "      <td>162.0</td>\n",
       "      <td>155.0</td>\n",
       "      <td>183.0</td>\n",
       "      <td>162.0</td>\n",
       "      <td>171.0</td>\n",
       "      <td>190.0</td>\n",
       "    </tr>\n",
       "    <tr>\n",
       "      <th>613</th>\n",
       "      <td>633</td>\n",
       "      <td>2016</td>\n",
       "      <td>Bangalore</td>\n",
       "      <td>2016-05-24</td>\n",
       "      <td>Gujarat Lions</td>\n",
       "      <td>Royal Challengers Bangalore</td>\n",
       "      <td>Royal Challengers Bangalore</td>\n",
       "      <td>field</td>\n",
       "      <td>normal</td>\n",
       "      <td>0</td>\n",
       "      <td>...</td>\n",
       "      <td>NaN</td>\n",
       "      <td>158</td>\n",
       "      <td>248.0</td>\n",
       "      <td>171.0</td>\n",
       "      <td>126.0</td>\n",
       "      <td>146.0</td>\n",
       "      <td>138.0</td>\n",
       "      <td>162.0</td>\n",
       "      <td>166.0</td>\n",
       "      <td>2361.0</td>\n",
       "    </tr>\n",
       "    <tr>\n",
       "      <th>614</th>\n",
       "      <td>634</td>\n",
       "      <td>2016</td>\n",
       "      <td>Delhi</td>\n",
       "      <td>2016-05-25</td>\n",
       "      <td>Sunrisers Hyderabad</td>\n",
       "      <td>Kolkata Knight Riders</td>\n",
       "      <td>Kolkata Knight Riders</td>\n",
       "      <td>field</td>\n",
       "      <td>normal</td>\n",
       "      <td>0</td>\n",
       "      <td>...</td>\n",
       "      <td>NaN</td>\n",
       "      <td>162</td>\n",
       "      <td>162.0</td>\n",
       "      <td>162.0</td>\n",
       "      <td>158.0</td>\n",
       "      <td>156.0</td>\n",
       "      <td>185.0</td>\n",
       "      <td>152.0</td>\n",
       "      <td>158.0</td>\n",
       "      <td>160.0</td>\n",
       "    </tr>\n",
       "    <tr>\n",
       "      <th>615</th>\n",
       "      <td>635</td>\n",
       "      <td>2016</td>\n",
       "      <td>Delhi</td>\n",
       "      <td>2016-05-27</td>\n",
       "      <td>Gujarat Lions</td>\n",
       "      <td>Sunrisers Hyderabad</td>\n",
       "      <td>Sunrisers Hyderabad</td>\n",
       "      <td>field</td>\n",
       "      <td>normal</td>\n",
       "      <td>0</td>\n",
       "      <td>...</td>\n",
       "      <td>NaN</td>\n",
       "      <td>162</td>\n",
       "      <td>162.0</td>\n",
       "      <td>162.0</td>\n",
       "      <td>158.0</td>\n",
       "      <td>148.0</td>\n",
       "      <td>171.0</td>\n",
       "      <td>158.0</td>\n",
       "      <td>172.0</td>\n",
       "      <td>1396.0</td>\n",
       "    </tr>\n",
       "    <tr>\n",
       "      <th>616</th>\n",
       "      <td>636</td>\n",
       "      <td>2016</td>\n",
       "      <td>Bangalore</td>\n",
       "      <td>2016-05-29</td>\n",
       "      <td>Sunrisers Hyderabad</td>\n",
       "      <td>Royal Challengers Bangalore</td>\n",
       "      <td>Sunrisers Hyderabad</td>\n",
       "      <td>bat</td>\n",
       "      <td>normal</td>\n",
       "      <td>0</td>\n",
       "      <td>...</td>\n",
       "      <td>NaN</td>\n",
       "      <td>208</td>\n",
       "      <td>158.0</td>\n",
       "      <td>171.0</td>\n",
       "      <td>162.0</td>\n",
       "      <td>156.0</td>\n",
       "      <td>158.0</td>\n",
       "      <td>161.0</td>\n",
       "      <td>166.0</td>\n",
       "      <td>176.0</td>\n",
       "    </tr>\n",
       "  </tbody>\n",
       "</table>\n",
       "<p>5 rows × 27 columns</p>\n",
       "</div>"
      ],
      "text/plain": [
       "      id  season       city        date                team1  \\\n",
       "612  632    2016     Raipur  2016-05-22     Delhi Daredevils   \n",
       "613  633    2016  Bangalore  2016-05-24        Gujarat Lions   \n",
       "614  634    2016      Delhi  2016-05-25  Sunrisers Hyderabad   \n",
       "615  635    2016      Delhi  2016-05-27        Gujarat Lions   \n",
       "616  636    2016  Bangalore  2016-05-29  Sunrisers Hyderabad   \n",
       "\n",
       "                           team2                  toss_winner toss_decision  \\\n",
       "612  Royal Challengers Bangalore  Royal Challengers Bangalore         field   \n",
       "613  Royal Challengers Bangalore  Royal Challengers Bangalore         field   \n",
       "614        Kolkata Knight Riders        Kolkata Knight Riders         field   \n",
       "615          Sunrisers Hyderabad          Sunrisers Hyderabad         field   \n",
       "616  Royal Challengers Bangalore          Sunrisers Hyderabad           bat   \n",
       "\n",
       "     result  dl_applied     ...     umpire3  first_innings_runs  \\\n",
       "612  normal           0     ...         NaN                 138   \n",
       "613  normal           0     ...         NaN                 158   \n",
       "614  normal           0     ...         NaN                 162   \n",
       "615  normal           0     ...         NaN                 162   \n",
       "616  normal           0     ...         NaN                 208   \n",
       "\n",
       "     shifted_score average_venue_score shifted_batting_score  \\\n",
       "612          158.0               148.0                 162.0   \n",
       "613          248.0               171.0                 126.0   \n",
       "614          162.0               162.0                 158.0   \n",
       "615          162.0               162.0                 158.0   \n",
       "616          158.0               171.0                 162.0   \n",
       "\n",
       "    average_first_batting_score shifted_bowling_score  \\\n",
       "612                       155.0                 183.0   \n",
       "613                       146.0                 138.0   \n",
       "614                       156.0                 185.0   \n",
       "615                       148.0                 171.0   \n",
       "616                       156.0                 158.0   \n",
       "\n",
       "     average_first_bowling_score  team1_form  team2_form  \n",
       "612                        162.0       171.0       190.0  \n",
       "613                        162.0       166.0      2361.0  \n",
       "614                        152.0       158.0       160.0  \n",
       "615                        158.0       172.0      1396.0  \n",
       "616                        161.0       166.0       176.0  \n",
       "\n",
       "[5 rows x 27 columns]"
      ]
     },
     "execution_count": 29,
     "metadata": {},
     "output_type": "execute_result"
    }
   ],
   "source": [
    "matches.tail()"
   ]
  },
  {
   "cell_type": "code",
   "execution_count": 30,
   "metadata": {},
   "outputs": [],
   "source": [
    "matches['team1']=matches['team1'].map({'Kolkata Knight Riders':1,'Chennai Super Kings':2,'Rajasthan Royals':3,'Mumbai Indians':4,'Deccan Chargers':5,'Kings XI Punjab':6,'Royal Challengers Bangalore':7,'Delhi Daredevils':8,'Kochi Tuskers Kerala':9,'Pune Warriors':10,'Sunrisers Hyderabad':11,'Rising Pune Supergiants':12,'Rising Pune Supergiant':12,'Gujarat Lions':13})\n",
    "matches['team2']=matches['team2'].map({'Kolkata Knight Riders':1,'Chennai Super Kings':2,'Rajasthan Royals':3,'Mumbai Indians':4,'Deccan Chargers':5,'Kings XI Punjab':6,'Royal Challengers Bangalore':7,'Delhi Daredevils':8,'Kochi Tuskers Kerala':9,'Pune Warriors':10,'Sunrisers Hyderabad':11,'Rising Pune Supergiants':12,'Rising Pune Supergiant':12,'Gujarat Lions':13})"
   ]
  },
  {
   "cell_type": "code",
   "execution_count": 31,
   "metadata": {},
   "outputs": [
    {
     "name": "stdout",
     "output_type": "stream",
     "text": [
      "<class 'pandas.core.frame.DataFrame'>\n",
      "Int64Index: 617 entries, 0 to 616\n",
      "Data columns (total 27 columns):\n",
      "id                             617 non-null int64\n",
      "season                         617 non-null int64\n",
      "city                           610 non-null object\n",
      "date                           617 non-null object\n",
      "team1                          617 non-null int64\n",
      "team2                          617 non-null int64\n",
      "toss_winner                    617 non-null object\n",
      "toss_decision                  617 non-null object\n",
      "result                         617 non-null object\n",
      "dl_applied                     617 non-null int64\n",
      "winner                         617 non-null object\n",
      "win_by_runs                    617 non-null int64\n",
      "win_by_wickets                 617 non-null int64\n",
      "player_of_match                617 non-null object\n",
      "venue                          617 non-null object\n",
      "umpire1                        616 non-null object\n",
      "umpire2                        616 non-null object\n",
      "umpire3                        0 non-null float64\n",
      "first_innings_runs             617 non-null int64\n",
      "shifted_score                  582 non-null float64\n",
      "average_venue_score            582 non-null float64\n",
      "shifted_batting_score          604 non-null float64\n",
      "average_first_batting_score    604 non-null float64\n",
      "shifted_bowling_score          604 non-null float64\n",
      "average_first_bowling_score    604 non-null float64\n",
      "team1_form                     617 non-null float64\n",
      "team2_form                     617 non-null float64\n",
      "dtypes: float64(9), int64(8), object(10)\n",
      "memory usage: 135.0+ KB\n"
     ]
    }
   ],
   "source": [
    "matches.info()"
   ]
  },
  {
   "cell_type": "code",
   "execution_count": 32,
   "metadata": {},
   "outputs": [],
   "source": [
    "temp_matches=matches[['team1','team2','average_venue_score','average_first_batting_score','average_first_bowling_score','first_innings_runs','team1_form','team2_form']]"
   ]
  },
  {
   "cell_type": "code",
   "execution_count": 33,
   "metadata": {},
   "outputs": [
    {
     "name": "stdout",
     "output_type": "stream",
     "text": [
      "<class 'pandas.core.frame.DataFrame'>\n",
      "Int64Index: 617 entries, 0 to 616\n",
      "Data columns (total 8 columns):\n",
      "team1                          617 non-null int64\n",
      "team2                          617 non-null int64\n",
      "average_venue_score            582 non-null float64\n",
      "average_first_batting_score    604 non-null float64\n",
      "average_first_bowling_score    604 non-null float64\n",
      "first_innings_runs             617 non-null int64\n",
      "team1_form                     617 non-null float64\n",
      "team2_form                     617 non-null float64\n",
      "dtypes: float64(5), int64(3)\n",
      "memory usage: 43.4 KB\n"
     ]
    }
   ],
   "source": [
    "temp_matches.info()"
   ]
  },
  {
   "cell_type": "code",
   "execution_count": 34,
   "metadata": {},
   "outputs": [],
   "source": [
    "temp_matches=temp_matches.dropna(how='any')"
   ]
  },
  {
   "cell_type": "code",
   "execution_count": 48,
   "metadata": {},
   "outputs": [
    {
     "data": {
      "text/html": [
       "<div>\n",
       "<style>\n",
       "    .dataframe thead tr:only-child th {\n",
       "        text-align: right;\n",
       "    }\n",
       "\n",
       "    .dataframe thead th {\n",
       "        text-align: left;\n",
       "    }\n",
       "\n",
       "    .dataframe tbody tr th {\n",
       "        vertical-align: top;\n",
       "    }\n",
       "</style>\n",
       "<table border=\"1\" class=\"dataframe\">\n",
       "  <thead>\n",
       "    <tr style=\"text-align: right;\">\n",
       "      <th></th>\n",
       "      <th>team1</th>\n",
       "      <th>team2</th>\n",
       "      <th>average_venue_score</th>\n",
       "      <th>average_first_batting_score</th>\n",
       "      <th>average_first_bowling_score</th>\n",
       "      <th>first_innings_runs</th>\n",
       "      <th>team1_form</th>\n",
       "      <th>team2_form</th>\n",
       "    </tr>\n",
       "  </thead>\n",
       "  <tbody>\n",
       "    <tr>\n",
       "      <th>team1</th>\n",
       "      <td>1.000000</td>\n",
       "      <td>-0.022245</td>\n",
       "      <td>0.109154</td>\n",
       "      <td>-0.231643</td>\n",
       "      <td>0.008901</td>\n",
       "      <td>0.011408</td>\n",
       "      <td>-0.108676</td>\n",
       "      <td>0.071707</td>\n",
       "    </tr>\n",
       "    <tr>\n",
       "      <th>team2</th>\n",
       "      <td>-0.022245</td>\n",
       "      <td>1.000000</td>\n",
       "      <td>0.042704</td>\n",
       "      <td>0.019773</td>\n",
       "      <td>0.114421</td>\n",
       "      <td>0.075167</td>\n",
       "      <td>-0.014608</td>\n",
       "      <td>-0.118137</td>\n",
       "    </tr>\n",
       "    <tr>\n",
       "      <th>average_venue_score</th>\n",
       "      <td>0.109154</td>\n",
       "      <td>0.042704</td>\n",
       "      <td>1.000000</td>\n",
       "      <td>0.055341</td>\n",
       "      <td>0.098153</td>\n",
       "      <td>0.051820</td>\n",
       "      <td>0.099748</td>\n",
       "      <td>0.022387</td>\n",
       "    </tr>\n",
       "    <tr>\n",
       "      <th>average_first_batting_score</th>\n",
       "      <td>-0.231643</td>\n",
       "      <td>0.019773</td>\n",
       "      <td>0.055341</td>\n",
       "      <td>1.000000</td>\n",
       "      <td>0.016522</td>\n",
       "      <td>0.044273</td>\n",
       "      <td>0.148760</td>\n",
       "      <td>-0.101554</td>\n",
       "    </tr>\n",
       "    <tr>\n",
       "      <th>average_first_bowling_score</th>\n",
       "      <td>0.008901</td>\n",
       "      <td>0.114421</td>\n",
       "      <td>0.098153</td>\n",
       "      <td>0.016522</td>\n",
       "      <td>1.000000</td>\n",
       "      <td>0.014218</td>\n",
       "      <td>-0.010668</td>\n",
       "      <td>-0.024014</td>\n",
       "    </tr>\n",
       "    <tr>\n",
       "      <th>first_innings_runs</th>\n",
       "      <td>0.011408</td>\n",
       "      <td>0.075167</td>\n",
       "      <td>0.051820</td>\n",
       "      <td>0.044273</td>\n",
       "      <td>0.014218</td>\n",
       "      <td>1.000000</td>\n",
       "      <td>-0.010405</td>\n",
       "      <td>0.018933</td>\n",
       "    </tr>\n",
       "    <tr>\n",
       "      <th>team1_form</th>\n",
       "      <td>-0.108676</td>\n",
       "      <td>-0.014608</td>\n",
       "      <td>0.099748</td>\n",
       "      <td>0.148760</td>\n",
       "      <td>-0.010668</td>\n",
       "      <td>-0.010405</td>\n",
       "      <td>1.000000</td>\n",
       "      <td>-0.003127</td>\n",
       "    </tr>\n",
       "    <tr>\n",
       "      <th>team2_form</th>\n",
       "      <td>0.071707</td>\n",
       "      <td>-0.118137</td>\n",
       "      <td>0.022387</td>\n",
       "      <td>-0.101554</td>\n",
       "      <td>-0.024014</td>\n",
       "      <td>0.018933</td>\n",
       "      <td>-0.003127</td>\n",
       "      <td>1.000000</td>\n",
       "    </tr>\n",
       "  </tbody>\n",
       "</table>\n",
       "</div>"
      ],
      "text/plain": [
       "                                team1     team2  average_venue_score  \\\n",
       "team1                        1.000000 -0.022245             0.109154   \n",
       "team2                       -0.022245  1.000000             0.042704   \n",
       "average_venue_score          0.109154  0.042704             1.000000   \n",
       "average_first_batting_score -0.231643  0.019773             0.055341   \n",
       "average_first_bowling_score  0.008901  0.114421             0.098153   \n",
       "first_innings_runs           0.011408  0.075167             0.051820   \n",
       "team1_form                  -0.108676 -0.014608             0.099748   \n",
       "team2_form                   0.071707 -0.118137             0.022387   \n",
       "\n",
       "                             average_first_batting_score  \\\n",
       "team1                                          -0.231643   \n",
       "team2                                           0.019773   \n",
       "average_venue_score                             0.055341   \n",
       "average_first_batting_score                     1.000000   \n",
       "average_first_bowling_score                     0.016522   \n",
       "first_innings_runs                              0.044273   \n",
       "team1_form                                      0.148760   \n",
       "team2_form                                     -0.101554   \n",
       "\n",
       "                             average_first_bowling_score  first_innings_runs  \\\n",
       "team1                                           0.008901            0.011408   \n",
       "team2                                           0.114421            0.075167   \n",
       "average_venue_score                             0.098153            0.051820   \n",
       "average_first_batting_score                     0.016522            0.044273   \n",
       "average_first_bowling_score                     1.000000            0.014218   \n",
       "first_innings_runs                              0.014218            1.000000   \n",
       "team1_form                                     -0.010668           -0.010405   \n",
       "team2_form                                     -0.024014            0.018933   \n",
       "\n",
       "                             team1_form  team2_form  \n",
       "team1                         -0.108676    0.071707  \n",
       "team2                         -0.014608   -0.118137  \n",
       "average_venue_score            0.099748    0.022387  \n",
       "average_first_batting_score    0.148760   -0.101554  \n",
       "average_first_bowling_score   -0.010668   -0.024014  \n",
       "first_innings_runs            -0.010405    0.018933  \n",
       "team1_form                     1.000000   -0.003127  \n",
       "team2_form                    -0.003127    1.000000  "
      ]
     },
     "execution_count": 48,
     "metadata": {},
     "output_type": "execute_result"
    }
   ],
   "source": [
    "temp_matches.corr()"
   ]
  },
  {
   "cell_type": "code",
   "execution_count": 35,
   "metadata": {},
   "outputs": [],
   "source": [
    "y=temp_matches['first_innings_runs']\n",
    "X=temp_matches.drop('first_innings_runs',axis=1)"
   ]
  },
  {
   "cell_type": "code",
   "execution_count": 36,
   "metadata": {},
   "outputs": [],
   "source": [
    "from sklearn.model_selection import train_test_split\n",
    "X_train,X_test,y_train,y_test=train_test_split(X,y,test_size=0.3,random_state=42)"
   ]
  },
  {
   "cell_type": "markdown",
   "metadata": {},
   "source": [
    "# RandomForest"
   ]
  },
  {
   "cell_type": "code",
   "execution_count": 66,
   "metadata": {},
   "outputs": [
    {
     "data": {
      "text/plain": [
       "<matplotlib.collections.PathCollection at 0x237b85b9748>"
      ]
     },
     "execution_count": 66,
     "metadata": {},
     "output_type": "execute_result"
    },
    {
     "data": {
      "image/png": "[encoded data removed]",
      "text/plain": [
       "<matplotlib.figure.Figure at 0x237b87cb668>"
      ]
     },
     "metadata": {},
     "output_type": "display_data"
    }
   ],
   "source": [
    "from sklearn.grid_search import GridSearchCV\n",
    "param_grid = [\n",
    "    # try 12 (3×4) combinations of hyperparameters\n",
    "    {'n_estimators':list(range(1,100)), 'max_features': ['auto', 'sqrt', 'log2']},\n",
    "    # then try 6 (2×3) combinations with bootstrap set as False\n",
    "    {'bootstrap': [False], 'n_estimators': [3, 10], 'max_features': [2, 3, 4]},\n",
    "  ]\n",
    "\n",
    "from sklearn.ensemble import RandomForestRegressor\n",
    "lm =  RandomForestRegressor()\n",
    "lm.fit(X_train, y_train)\n",
    "grid_search = GridSearchCV(lm, param_grid, cv=3,n_jobs = -1, scoring='neg_mean_squared_error')\n",
    "grid_search.fit(X_train, y_train)\n",
    "predictions = lm.predict(X_test)\n",
    "predictions=predictions.round()\n",
    "plt.scatter(y_test,predictions)"
   ]
  },
  {
   "cell_type": "code",
   "execution_count": 67,
   "metadata": {},
   "outputs": [
    {
     "data": {
      "text/plain": [
       "{'max_features': 'sqrt', 'n_estimators': 46}"
      ]
     },
     "execution_count": 67,
     "metadata": {},
     "output_type": "execute_result"
    }
   ],
   "source": [
    "grid_search.best_params_"
   ]
  },
  {
   "cell_type": "code",
   "execution_count": 68,
   "metadata": {},
   "outputs": [
    {
     "data": {
      "text/plain": [
       "RandomForestRegressor(bootstrap=True, criterion='mse', max_depth=None,\n",
       "           max_features='sqrt', max_leaf_nodes=None,\n",
       "           min_impurity_decrease=0.0, min_impurity_split=None,\n",
       "           min_samples_leaf=1, min_samples_split=2,\n",
       "           min_weight_fraction_leaf=0.0, n_estimators=46, n_jobs=1,\n",
       "           oob_score=False, random_state=None, verbose=0, warm_start=False)"
      ]
     },
     "execution_count": 68,
     "metadata": {},
     "output_type": "execute_result"
    }
   ],
   "source": [
    "\n",
    "grid_search.best_estimator_"
   ]
  },
  {
   "cell_type": "code",
   "execution_count": 69,
   "metadata": {},
   "outputs": [
    {
     "data": {
      "text/plain": [
       "{'average_first_batting_score': '0.1491',\n",
       " 'average_first_bowling_score': '0.1611',\n",
       " 'average_venue_score': '0.1470',\n",
       " 'team1': '0.1053',\n",
       " 'team1_form': '0.1620',\n",
       " 'team2': '0.0765',\n",
       " 'team2_form': '0.1991'}"
      ]
     },
     "execution_count": 69,
     "metadata": {},
     "output_type": "execute_result"
    }
   ],
   "source": [
    "imp_list=list(lm.feature_importances_)\n",
    "col_lis = list(X_test.columns)\n",
    "\n",
    "feature_importances = {i[0]:\"{0:.4f}\".format(i[1]) for i in list(zip(col_lis,imp_list))}\n",
    "\n",
    "feature_importances"
   ]
  },
  {
   "cell_type": "code",
   "execution_count": 58,
   "metadata": {},
   "outputs": [],
   "source": [
    "# from sklearn.ensemble import RandomForestRegressor\n",
    "# model=RandomForestRegressor(n_estimators=100,n_jobs=-1,max_features='auto')\n",
    "# model.fit(X_train,y_train)\n",
    "# predictions=model.predict(X_test)"
   ]
  },
  {
   "cell_type": "code",
   "execution_count": 59,
   "metadata": {},
   "outputs": [],
   "source": [
    " #predictions=predictions.round()\n",
    "# plt.scatter(y_test,predictions)"
   ]
  },
  {
   "cell_type": "code",
   "execution_count": 70,
   "metadata": {},
   "outputs": [
    {
     "name": "stdout",
     "output_type": "stream",
     "text": [
      "MAE: 25.0930232558\n",
      "MSE: 988.802325581\n",
      "RMSE: 31.4452273896\n"
     ]
    }
   ],
   "source": [
    "from sklearn import metrics\n",
    "print('MAE:', metrics.mean_absolute_error(y_test, predictions))\n",
    "\n",
    "print('MSE:', metrics.mean_squared_error(y_test, predictions))\n",
    "\n",
    "print('RMSE:', np.sqrt(metrics.mean_squared_error(y_test, predictions)))"
   ]
  },
  {
   "cell_type": "markdown",
   "metadata": {},
   "source": [
    "# LinearRegression"
   ]
  },
  {
   "cell_type": "code",
   "execution_count": 61,
   "metadata": {},
   "outputs": [],
   "source": [
    "from sklearn.linear_model import LinearRegression\n",
    "model=LinearRegression()\n",
    "model.fit(X_train,y_train)\n",
    "predictions=model.predict(X_test)"
   ]
  },
  {
   "cell_type": "code",
   "execution_count": 62,
   "metadata": {},
   "outputs": [
    {
     "data": {
      "text/plain": [
       "<matplotlib.collections.PathCollection at 0x237b85bc128>"
      ]
     },
     "execution_count": 62,
     "metadata": {},
     "output_type": "execute_result"
    },
    {
     "data": {
      "image/png": "[encoded data removed]",
      "text/plain": [
       "<matplotlib.figure.Figure at 0x237b84eda58>"
      ]
     },
     "metadata": {},
     "output_type": "display_data"
    }
   ],
   "source": [
    "predictions=predictions.round()\n",
    "plt.scatter(y_test,predictions)"
   ]
  },
  {
   "cell_type": "code",
   "execution_count": 63,
   "metadata": {},
   "outputs": [
    {
     "name": "stdout",
     "output_type": "stream",
     "text": [
      "MAE: 22.761627907\n",
      "MSE: 844.575581395\n",
      "RMSE: 29.0615825687\n"
     ]
    }
   ],
   "source": [
    "from sklearn import metrics\n",
    "print('MAE:', metrics.mean_absolute_error(y_test, predictions))\n",
    "\n",
    "print('MSE:', metrics.mean_squared_error(y_test, predictions))\n",
    "\n",
    "print('RMSE:', np.sqrt(metrics.mean_squared_error(y_test, predictions)))"
   ]
  },
  {
   "cell_type": "code",
   "execution_count": 64,
   "metadata": {},
   "outputs": [
    {
     "data": {
      "text/plain": [
       "array([ 164.,  166.,  157.,  161.,  169.,  153.,  159.,  172.,  158.,\n",
       "        163.,  159.,  159.,  165.,  156.,  155.,  161.,  161.,  157.,\n",
       "        157.,  160.,  158.,  159.,  158.,  163.,  171.,  158.,  163.,\n",
       "        162.,  161.,  161.,  159.,  169.,  163.,  167.,  157.,  161.,\n",
       "        154.,  163.,  156.,  156.,  161.,  155.,  156.,  156.,  163.,\n",
       "        158.,  166.,  166.,  163.,  164.,  165.,  156.,  164.,  158.,\n",
       "        157.,  150.,  161.,  159.,  167.,  164.,  159.,  153.,  161.,\n",
       "        163.,  157.,  162.,  161.,  159.,  155.,  162.,  162.,  160.,\n",
       "        158.,  158.,  163.,  154.,  160.,  156.,  160.,  165.,  163.,\n",
       "        165.,  162.,  161.,  157.,  166.,  159.,  159.,  163.,  162.,\n",
       "        164.,  162.,  162.,  166.,  155.,  163.,  168.,  160.,  164.,\n",
       "        154.,  163.,  162.,  164.,  164.,  162.,  166.,  154.,  159.,\n",
       "        159.,  162.,  158.,  160.,  166.,  167.,  161.,  161.,  168.,\n",
       "        170.,  172.,  159.,  164.,  161.,  164.,  162.,  159.,  162.,\n",
       "        159.,  163.,  154.,  162.,  160.,  165.,  160.,  165.,  155.,\n",
       "        168.,  160.,  164.,  154.,  164.,  160.,  162.,  158.,  158.,\n",
       "        158.,  161.,  162.,  164.,  164.,  163.,  157.,  165.,  163.,\n",
       "        166.,  163.,  164.,  164.,  156.,  164.,  158.,  164.,  163.,\n",
       "        157.,  162.,  155.,  162.,  158.,  165.,  159.,  162.,  163.,  162.])"
      ]
     },
     "execution_count": 64,
     "metadata": {},
     "output_type": "execute_result"
    }
   ],
   "source": [
    "predictions"
   ]
  },
  {
   "cell_type": "code",
   "execution_count": 65,
   "metadata": {},
   "outputs": [
    {
     "data": {
      "text/plain": [
       "552    106\n",
       "82     126\n",
       "150    119\n",
       "440    172\n",
       "587    154\n",
       "352    182\n",
       "212    174\n",
       "29     134\n",
       "93     133\n",
       "341    160\n",
       "503    173\n",
       "309    205\n",
       "578    143\n",
       "553    171\n",
       "573    138\n",
       "95     221\n",
       "342    150\n",
       "188    148\n",
       "113    163\n",
       "367    162\n",
       "85     187\n",
       "319    124\n",
       "436    166\n",
       "291    128\n",
       "603    248\n",
       "88     122\n",
       "273    178\n",
       "602    124\n",
       "267    169\n",
       "84     103\n",
       "      ... \n",
       "295    185\n",
       "323    146\n",
       "164    170\n",
       "555    199\n",
       "274    125\n",
       "530     95\n",
       "577    164\n",
       "209    138\n",
       "399    185\n",
       "54     161\n",
       "351    173\n",
       "46     138\n",
       "105    176\n",
       "410    174\n",
       "123    149\n",
       "276    196\n",
       "616    208\n",
       "480    190\n",
       "435    168\n",
       "238    175\n",
       "428    112\n",
       "449    205\n",
       "395    119\n",
       "565    187\n",
       "472    178\n",
       "81     109\n",
       "285    136\n",
       "200    178\n",
       "432    120\n",
       "460     70\n",
       "Name: first_innings_runs, Length: 172, dtype: int64"
      ]
     },
     "execution_count": 65,
     "metadata": {},
     "output_type": "execute_result"
    }
   ],
   "source": [
    "y_test"
   ]
  },
  {
   "cell_type": "code",
   "execution_count": null,
   "metadata": {
    "collapsed": true
   },
   "outputs": [],
   "source": []
  },
  {
   "cell_type": "code",
   "execution_count": null,
   "metadata": {
    "collapsed": true
   },
   "outputs": [],
   "source": []
  }
 ],
 "metadata": {
  "kernelspec": {
   "display_name": "Python 3",
   "language": "python",
   "name": "python3"
  },
  "language_info": {
   "codemirror_mode": {
    "name": "ipython",
    "version": 3
   },
   "file_extension": ".py",
   "mimetype": "text/x-python",
   "name": "python",
   "nbconvert_exporter": "python",
   "pygments_lexer": "ipython3",
   "version": "3.6.3"
  }
 },
 "nbformat": 4,
 "nbformat_minor": 2
}
